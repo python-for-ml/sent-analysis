{
 "cells": [
  {
   "cell_type": "code",
   "execution_count": 1,
   "metadata": {
    "id": "RXiCjQPIGYWR"
   },
   "outputs": [],
   "source": [
    "import pandas as pd\n",
    "from sklearn.feature_extraction.text import CountVectorizer, TfidfVectorizer \n",
    "from sklearn.preprocessing import LabelEncoder\n",
    "from sklearn.model_selection import train_test_split\n",
    "from sklearn.model_selection import GridSearchCV\n",
    "from sklearn.decomposition import PCA,SparsePCA\n",
    "import numpy as np\n",
    "import re\n",
    "from sklearn.ensemble import RandomForestClassifier\n",
    "from sklearn.naive_bayes import GaussianNB\n",
    "from sklearn import metrics\n",
    "from scipy.stats import uniform, truncnorm, randint\n",
    "from sklearn.decomposition import TruncatedSVD\n",
    "from sklearn.metrics import confusion_matrix\n",
    "from sklearn import tree\n",
    "from sklearn.utils import class_weight\n",
    "import gensim\n",
    "from gensim.models import KeyedVectors, Word2Vec, FastText\n",
    "from nltk.tokenize import word_tokenize\n",
    "from sklearn.model_selection import train_test_split, GridSearchCV\n",
    "from sklearn.metrics import accuracy_score, f1_score, precision_score, recall_score, confusion_matrix,classification_report\n",
    "from sklearn.naive_bayes import MultinomialNB\n",
    "from sklearn.preprocessing import MinMaxScaler\n",
    "from sklearn.naive_bayes import ComplementNB"
   ]
  },
  {
   "cell_type": "code",
   "execution_count": 2,
   "metadata": {},
   "outputs": [],
   "source": [
    "data = pd.read_csv('https://raw.githubusercontent.com/python-for-ml/sent-analysis/master/finaldataset.csv')\n"
   ]
  },
  {
   "cell_type": "code",
   "execution_count": 3,
   "metadata": {
    "colab": {
     "base_uri": "https://localhost:8080/",
     "height": 204
    },
    "id": "QaYiiK2tGYWa",
    "outputId": "ca9ba812-c3f2-4335-f776-85a94a9a1dfa"
   },
   "outputs": [
    {
     "data": {
      "text/html": [
       "<div>\n",
       "<style scoped>\n",
       "    .dataframe tbody tr th:only-of-type {\n",
       "        vertical-align: middle;\n",
       "    }\n",
       "\n",
       "    .dataframe tbody tr th {\n",
       "        vertical-align: top;\n",
       "    }\n",
       "\n",
       "    .dataframe thead th {\n",
       "        text-align: right;\n",
       "    }\n",
       "</style>\n",
       "<table border=\"1\" class=\"dataframe\">\n",
       "  <thead>\n",
       "    <tr style=\"text-align: right;\">\n",
       "      <th></th>\n",
       "      <th>data</th>\n",
       "      <th>tag</th>\n",
       "    </tr>\n",
       "  </thead>\n",
       "  <tbody>\n",
       "    <tr>\n",
       "      <th>0</th>\n",
       "      <td>লিখার সময় পারলে সত্য লিখার অভ্যাস শিখুন</td>\n",
       "      <td>কিছুটা নেতিবাচক</td>\n",
       "    </tr>\n",
       "    <tr>\n",
       "      <th>1</th>\n",
       "      <td>এটা কেন হচ্ছে সংশ্লিষ্ট সকলের ডিপ্রেশনের ফলে ন...</td>\n",
       "      <td>কিছুটা নেতিবাচক</td>\n",
       "    </tr>\n",
       "    <tr>\n",
       "      <th>2</th>\n",
       "      <td>আমাদের দেশের স্বাভাবিক অর্থনৈতিক গতিপ্রবাহকে ব...</td>\n",
       "      <td>নিশ্চিত নেতিবাচক</td>\n",
       "    </tr>\n",
       "    <tr>\n",
       "      <th>3</th>\n",
       "      <td>চুরি নয় লুটপাট</td>\n",
       "      <td>নিশ্চিত নেতিবাচক</td>\n",
       "    </tr>\n",
       "    <tr>\n",
       "      <th>4</th>\n",
       "      <td>ইসলামী ব্যাংকের বর্তমান অবস্থা দেখে মনে হয় শাস...</td>\n",
       "      <td>নিরপেক্ষ</td>\n",
       "    </tr>\n",
       "  </tbody>\n",
       "</table>\n",
       "</div>"
      ],
      "text/plain": [
       "                                                data               tag\n",
       "0            লিখার সময় পারলে সত্য লিখার অভ্যাস শিখুন   কিছুটা নেতিবাচক\n",
       "1  এটা কেন হচ্ছে সংশ্লিষ্ট সকলের ডিপ্রেশনের ফলে ন...   কিছুটা নেতিবাচক\n",
       "2  আমাদের দেশের স্বাভাবিক অর্থনৈতিক গতিপ্রবাহকে ব...  নিশ্চিত নেতিবাচক\n",
       "3                                     চুরি নয় লুটপাট  নিশ্চিত নেতিবাচক\n",
       "4  ইসলামী ব্যাংকের বর্তমান অবস্থা দেখে মনে হয় শাস...          নিরপেক্ষ"
      ]
     },
     "execution_count": 3,
     "metadata": {},
     "output_type": "execute_result"
    }
   ],
   "source": [
    "#data = pd.read_csv(\"finaldataset.csv\")\n",
    "data=data.drop(['title_x','title_y','title','value'],axis=1)\n",
    "data.head()"
   ]
  },
  {
   "cell_type": "code",
   "execution_count": 4,
   "metadata": {
    "colab": {
     "base_uri": "https://localhost:8080/",
     "height": 204
    },
    "id": "uH3RLNYLGYWh",
    "outputId": "8b8e28d7-4717-4333-9b79-35e904fd8785"
   },
   "outputs": [
    {
     "data": {
      "text/html": [
       "<div>\n",
       "<style scoped>\n",
       "    .dataframe tbody tr th:only-of-type {\n",
       "        vertical-align: middle;\n",
       "    }\n",
       "\n",
       "    .dataframe tbody tr th {\n",
       "        vertical-align: top;\n",
       "    }\n",
       "\n",
       "    .dataframe thead th {\n",
       "        text-align: right;\n",
       "    }\n",
       "</style>\n",
       "<table border=\"1\" class=\"dataframe\">\n",
       "  <thead>\n",
       "    <tr style=\"text-align: right;\">\n",
       "      <th></th>\n",
       "      <th>data</th>\n",
       "      <th>tag</th>\n",
       "    </tr>\n",
       "  </thead>\n",
       "  <tbody>\n",
       "    <tr>\n",
       "      <th>0</th>\n",
       "      <td>লিখার সময় পারলে সত্য লিখার অভ্যাস শিখুন</td>\n",
       "      <td>1</td>\n",
       "    </tr>\n",
       "    <tr>\n",
       "      <th>1</th>\n",
       "      <td>এটা কেন হচ্ছে সংশ্লিষ্ট সকলের ডিপ্রেশনের ফলে ন...</td>\n",
       "      <td>1</td>\n",
       "    </tr>\n",
       "    <tr>\n",
       "      <th>2</th>\n",
       "      <td>আমাদের দেশের স্বাভাবিক অর্থনৈতিক গতিপ্রবাহকে ব...</td>\n",
       "      <td>4</td>\n",
       "    </tr>\n",
       "    <tr>\n",
       "      <th>3</th>\n",
       "      <td>চুরি নয় লুটপাট</td>\n",
       "      <td>4</td>\n",
       "    </tr>\n",
       "    <tr>\n",
       "      <th>4</th>\n",
       "      <td>ইসলামী ব্যাংকের বর্তমান অবস্থা দেখে মনে হয় শাস...</td>\n",
       "      <td>2</td>\n",
       "    </tr>\n",
       "  </tbody>\n",
       "</table>\n",
       "</div>"
      ],
      "text/plain": [
       "                                                data  tag\n",
       "0            লিখার সময় পারলে সত্য লিখার অভ্যাস শিখুন    1\n",
       "1  এটা কেন হচ্ছে সংশ্লিষ্ট সকলের ডিপ্রেশনের ফলে ন...    1\n",
       "2  আমাদের দেশের স্বাভাবিক অর্থনৈতিক গতিপ্রবাহকে ব...    4\n",
       "3                                     চুরি নয় লুটপাট    4\n",
       "4  ইসলামী ব্যাংকের বর্তমান অবস্থা দেখে মনে হয় শাস...    2"
      ]
     },
     "execution_count": 4,
     "metadata": {},
     "output_type": "execute_result"
    }
   ],
   "source": [
    "le = LabelEncoder()\n",
    "data['tag'] = le.fit_transform(data['tag'])\n",
    "data.head()"
   ]
  },
  {
   "cell_type": "code",
   "execution_count": 5,
   "metadata": {
    "id": "sHEvuBOhvlde"
   },
   "outputs": [],
   "source": [
    "data['tag']=data['tag'].replace(3, 0)\n",
    "data['tag']=data['tag'].replace(4, 1)\n",
    "data = data[data['tag'] != 2]"
   ]
  },
  {
   "cell_type": "code",
   "execution_count": 6,
   "metadata": {
    "id": "TQ6_Z0eVGYWl"
   },
   "outputs": [],
   "source": [
    "d = data['data'].tolist()\n",
    "label = data['tag'].tolist()"
   ]
  },
  {
   "cell_type": "code",
   "execution_count": 7,
   "metadata": {
    "id": "Q_wUSNpZGYWp"
   },
   "outputs": [],
   "source": [
    "for i in range(len(d)):\n",
    "    d[i] = re.sub(r'[^\\w\\s]', '', d[i])"
   ]
  },
  {
   "cell_type": "code",
   "execution_count": 8,
   "metadata": {
    "id": "Zy7RDwAE07jR"
   },
   "outputs": [],
   "source": [
    "corpus = []\n",
    "for i in range(len(d)):\n",
    "    corpus.append(word_tokenize(d[i]))"
   ]
  },
  {
   "cell_type": "code",
   "execution_count": 9,
   "metadata": {
    "id": "wDQ_41shh7BC"
   },
   "outputs": [],
   "source": [
    "vectorizer=CountVectorizer()\n",
    "vocabulary=vectorizer.fit(d)\n",
    "X= vectorizer.transform(d)\n",
    "size = round(len(vocabulary.get_feature_names())**0.65)"
   ]
  },
  {
   "cell_type": "code",
   "execution_count": 10,
   "metadata": {
    "colab": {
     "base_uri": "https://localhost:8080/"
    },
    "id": "7JuClPCCid50",
    "outputId": "01b3bdba-f80c-4936-befa-ac2c4beef53a"
   },
   "outputs": [
    {
     "data": {
      "text/plain": [
       "651"
      ]
     },
     "execution_count": 10,
     "metadata": {},
     "output_type": "execute_result"
    }
   ],
   "source": [
    "size"
   ]
  },
  {
   "cell_type": "code",
   "execution_count": 11,
   "metadata": {
    "id": "Xi15hcE3iZj7"
   },
   "outputs": [],
   "source": [
    "wvmodel = Word2Vec(corpus, size=size, window=4, min_count=1)"
   ]
  },
  {
   "cell_type": "code",
   "execution_count": 12,
   "metadata": {
    "colab": {
     "base_uri": "https://localhost:8080/"
    },
    "id": "C-_B5fwYjBZ3",
    "outputId": "c9f8c9ae-0648-4774-acab-1459bf629bf6"
   },
   "outputs": [
    {
     "name": "stderr",
     "output_type": "stream",
     "text": [
      "<ipython-input-12-35b75f0a5797>:5: DeprecationWarning: Call to deprecated `__getitem__` (Method will be removed in 4.0.0, use self.wv.__getitem__() instead).\n",
      "  emb = emb +  wvmodel[w]\n"
     ]
    }
   ],
   "source": [
    "X = np.zeros((len(corpus),size)) #Initializing the X matrix with zeros\n",
    "for i in range(len(corpus)):\n",
    "    emb = np.zeros((1,size))\n",
    "    for w in corpus[i]:\n",
    "        emb = emb +  wvmodel[w]\n",
    "    X[i] = emb "
   ]
  },
  {
   "cell_type": "code",
   "execution_count": 13,
   "metadata": {},
   "outputs": [],
   "source": [
    "X_link = 'https://raw.githubusercontent.com/python-for-ml/sent-analysis/master/X.csv'\n",
    "X = pd.read_csv(X_link, header = None).to_numpy()\n",
    "\n",
    "label_link = 'https://raw.githubusercontent.com/python-for-ml/sent-analysis/master/label.csv'\n",
    "label = pd.read_csv(label_link, header = None)\n",
    "label = label.to_numpy().reshape([1, len(label)])[0]"
   ]
  },
  {
   "cell_type": "code",
   "execution_count": 14,
   "metadata": {
    "id": "9yxebxz5GYWy"
   },
   "outputs": [],
   "source": [
    "X_train, X_test, y_train, y_test = train_test_split(X,label, test_size=0.2)"
   ]
  },
  {
   "cell_type": "code",
   "execution_count": 15,
   "metadata": {},
   "outputs": [
    {
     "data": {
      "text/plain": [
       "GaussianNB()"
      ]
     },
     "execution_count": 15,
     "metadata": {},
     "output_type": "execute_result"
    }
   ],
   "source": [
    "Model = GaussianNB()\n",
    "Model.fit(X_train, y_train)"
   ]
  },
  {
   "cell_type": "code",
   "execution_count": 16,
   "metadata": {
    "id": "x52m8poK9ROA"
   },
   "outputs": [],
   "source": [
    "y_pred = Model.predict(X_test)"
   ]
  },
  {
   "cell_type": "code",
   "execution_count": 17,
   "metadata": {
    "colab": {
     "base_uri": "https://localhost:8080/"
    },
    "id": "gw9Z_hL4v4xn",
    "outputId": "c0b93f9a-85f3-4911-df37-a14313694937"
   },
   "outputs": [
    {
     "name": "stdout",
     "output_type": "stream",
     "text": [
      "Accuracy  : 0.7015200368493781\n",
      "Precision : 0.7493333333333333\n",
      "F1-Score  : 0.7762430939226518\n",
      "Recall    : 0.8051575931232091\n"
     ]
    }
   ],
   "source": [
    "print(\"Accuracy  :\",metrics.accuracy_score(y_test, y_pred))\n",
    "print(\"Precision :\",metrics.precision_score(y_test,y_pred))\n",
    "print(\"F1-Score  :\",metrics.f1_score(y_test,y_pred))\n",
    "print(\"Recall    :\",metrics.recall_score(y_test,y_pred))"
   ]
  },
  {
   "cell_type": "code",
   "execution_count": 18,
   "metadata": {
    "colab": {
     "base_uri": "https://localhost:8080/"
    },
    "id": "H4eqMtqKulVk",
    "outputId": "92b0f403-447e-479e-c4b8-ae1e26315104"
   },
   "outputs": [
    {
     "name": "stdout",
     "output_type": "stream",
     "text": [
      "              precision    recall  f1-score   support\n",
      "\n",
      "         0.0       0.59      0.51      0.55       775\n",
      "         1.0       0.75      0.81      0.78      1396\n",
      "\n",
      "    accuracy                           0.70      2171\n",
      "   macro avg       0.67      0.66      0.66      2171\n",
      "weighted avg       0.69      0.70      0.70      2171\n",
      "\n"
     ]
    }
   ],
   "source": [
    "print(classification_report(y_test, y_pred))"
   ]
  },
  {
   "cell_type": "code",
   "execution_count": 19,
   "metadata": {
    "colab": {
     "base_uri": "https://localhost:8080/"
    },
    "id": "qgUts-9EwdY6",
    "outputId": "7f4970cb-63ce-4f69-ab19-b726c68777c1"
   },
   "outputs": [
    {
     "data": {
      "text/plain": [
       "array([[ 399,  376],\n",
       "       [ 272, 1124]], dtype=int64)"
      ]
     },
     "execution_count": 19,
     "metadata": {},
     "output_type": "execute_result"
    }
   ],
   "source": [
    "confusion_matrix(y_test,y_pred)"
   ]
  }
 ],
 "metadata": {
  "colab": {
   "collapsed_sections": [],
   "name": "RandomForest_DT-3.ipynb",
   "provenance": []
  },
  "kernelspec": {
   "display_name": "Python 3",
   "language": "python",
   "name": "python3"
  },
  "language_info": {
   "codemirror_mode": {
    "name": "ipython",
    "version": 3
   },
   "file_extension": ".py",
   "mimetype": "text/x-python",
   "name": "python",
   "nbconvert_exporter": "python",
   "pygments_lexer": "ipython3",
   "version": "3.8.6"
  }
 },
 "nbformat": 4,
 "nbformat_minor": 1
}
