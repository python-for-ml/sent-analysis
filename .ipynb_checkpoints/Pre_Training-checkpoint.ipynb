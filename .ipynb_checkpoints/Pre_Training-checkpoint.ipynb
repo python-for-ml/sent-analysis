{
 "cells": [
  {
   "cell_type": "code",
   "execution_count": 1,
   "metadata": {},
   "outputs": [],
   "source": [
    "import fasttext\n",
    "import numpy as np\n",
    "import pandas as pd\n",
    "from nltk.tokenize import word_tokenize\n",
    "import fasttext.util\n",
    "from sklearn.preprocessing import LabelEncoder\n",
    "from sklearn.model_selection import train_test_split\n",
    "from sklearn.svm import SVC\n",
    "from sklearn.metrics import accuracy_score, f1_score, precision_score, recall_score, confusion_matrix,classification_report"
   ]
  },
  {
   "cell_type": "code",
   "execution_count": 2,
   "metadata": {},
   "outputs": [
    {
     "name": "stderr",
     "output_type": "stream",
     "text": [
      "Warning : `load_model` does not return WordVectorModel or SupervisedModel any more, but a `FastText` object which is very similar.\n"
     ]
    },
    {
     "data": {
      "text/plain": [
       "300"
      ]
     },
     "execution_count": 2,
     "metadata": {},
     "output_type": "execute_result"
    }
   ],
   "source": [
    "ft = fasttext.load_model('cc.bn.300.bin')\n",
    "#fasttext.util.reduce_model(ft, size)\n",
    "ft.get_dimension()"
   ]
  },
  {
   "cell_type": "code",
   "execution_count": 3,
   "metadata": {},
   "outputs": [],
   "source": [
    "size = ft.get_dimension()\n",
    "#fasttext.util.reduce_model(ft, size)"
   ]
  },
  {
   "cell_type": "code",
   "execution_count": 4,
   "metadata": {},
   "outputs": [
    {
     "data": {
      "text/html": [
       "<div>\n",
       "<style scoped>\n",
       "    .dataframe tbody tr th:only-of-type {\n",
       "        vertical-align: middle;\n",
       "    }\n",
       "\n",
       "    .dataframe tbody tr th {\n",
       "        vertical-align: top;\n",
       "    }\n",
       "\n",
       "    .dataframe thead th {\n",
       "        text-align: right;\n",
       "    }\n",
       "</style>\n",
       "<table border=\"1\" class=\"dataframe\">\n",
       "  <thead>\n",
       "    <tr style=\"text-align: right;\">\n",
       "      <th></th>\n",
       "      <th>data</th>\n",
       "      <th>tag</th>\n",
       "    </tr>\n",
       "  </thead>\n",
       "  <tbody>\n",
       "    <tr>\n",
       "      <th>0</th>\n",
       "      <td>লিখার সময় পারলে সত্য লিখার অভ্যাস শিখুন</td>\n",
       "      <td>কিছুটা নেতিবাচক</td>\n",
       "    </tr>\n",
       "    <tr>\n",
       "      <th>1</th>\n",
       "      <td>এটা কেন হচ্ছে সংশ্লিষ্ট সকলের ডিপ্রেশনের ফলে ন...</td>\n",
       "      <td>কিছুটা নেতিবাচক</td>\n",
       "    </tr>\n",
       "    <tr>\n",
       "      <th>2</th>\n",
       "      <td>আমাদের দেশের স্বাভাবিক অর্থনৈতিক গতিপ্রবাহকে ব...</td>\n",
       "      <td>নিশ্চিত নেতিবাচক</td>\n",
       "    </tr>\n",
       "    <tr>\n",
       "      <th>3</th>\n",
       "      <td>চুরি নয় লুটপাট</td>\n",
       "      <td>নিশ্চিত নেতিবাচক</td>\n",
       "    </tr>\n",
       "    <tr>\n",
       "      <th>4</th>\n",
       "      <td>ইসলামী ব্যাংকের বর্তমান অবস্থা দেখে মনে হয় শাস...</td>\n",
       "      <td>নিরপেক্ষ</td>\n",
       "    </tr>\n",
       "  </tbody>\n",
       "</table>\n",
       "</div>"
      ],
      "text/plain": [
       "                                                data               tag\n",
       "0            লিখার সময় পারলে সত্য লিখার অভ্যাস শিখুন   কিছুটা নেতিবাচক\n",
       "1  এটা কেন হচ্ছে সংশ্লিষ্ট সকলের ডিপ্রেশনের ফলে ন...   কিছুটা নেতিবাচক\n",
       "2  আমাদের দেশের স্বাভাবিক অর্থনৈতিক গতিপ্রবাহকে ব...  নিশ্চিত নেতিবাচক\n",
       "3                                     চুরি নয় লুটপাট  নিশ্চিত নেতিবাচক\n",
       "4  ইসলামী ব্যাংকের বর্তমান অবস্থা দেখে মনে হয় শাস...          নিরপেক্ষ"
      ]
     },
     "execution_count": 4,
     "metadata": {},
     "output_type": "execute_result"
    }
   ],
   "source": [
    "link = 'https://raw.githubusercontent.com/python-for-ml/sent-analysis/master/finaldataset.csv'\n",
    "data = pd.read_csv(link)\n",
    "data=data.drop(['title_x','title_y','title','value'],axis=1)\n",
    "data.head()"
   ]
  },
  {
   "cell_type": "code",
   "execution_count": 5,
   "metadata": {},
   "outputs": [
    {
     "data": {
      "text/html": [
       "<div>\n",
       "<style scoped>\n",
       "    .dataframe tbody tr th:only-of-type {\n",
       "        vertical-align: middle;\n",
       "    }\n",
       "\n",
       "    .dataframe tbody tr th {\n",
       "        vertical-align: top;\n",
       "    }\n",
       "\n",
       "    .dataframe thead th {\n",
       "        text-align: right;\n",
       "    }\n",
       "</style>\n",
       "<table border=\"1\" class=\"dataframe\">\n",
       "  <thead>\n",
       "    <tr style=\"text-align: right;\">\n",
       "      <th></th>\n",
       "      <th>data</th>\n",
       "      <th>tag</th>\n",
       "    </tr>\n",
       "  </thead>\n",
       "  <tbody>\n",
       "    <tr>\n",
       "      <th>0</th>\n",
       "      <td>লিখার সময় পারলে সত্য লিখার অভ্যাস শিখুন</td>\n",
       "      <td>1</td>\n",
       "    </tr>\n",
       "    <tr>\n",
       "      <th>1</th>\n",
       "      <td>এটা কেন হচ্ছে সংশ্লিষ্ট সকলের ডিপ্রেশনের ফলে ন...</td>\n",
       "      <td>1</td>\n",
       "    </tr>\n",
       "    <tr>\n",
       "      <th>2</th>\n",
       "      <td>আমাদের দেশের স্বাভাবিক অর্থনৈতিক গতিপ্রবাহকে ব...</td>\n",
       "      <td>4</td>\n",
       "    </tr>\n",
       "    <tr>\n",
       "      <th>3</th>\n",
       "      <td>চুরি নয় লুটপাট</td>\n",
       "      <td>4</td>\n",
       "    </tr>\n",
       "    <tr>\n",
       "      <th>4</th>\n",
       "      <td>ইসলামী ব্যাংকের বর্তমান অবস্থা দেখে মনে হয় শাস...</td>\n",
       "      <td>2</td>\n",
       "    </tr>\n",
       "  </tbody>\n",
       "</table>\n",
       "</div>"
      ],
      "text/plain": [
       "                                                data  tag\n",
       "0            লিখার সময় পারলে সত্য লিখার অভ্যাস শিখুন    1\n",
       "1  এটা কেন হচ্ছে সংশ্লিষ্ট সকলের ডিপ্রেশনের ফলে ন...    1\n",
       "2  আমাদের দেশের স্বাভাবিক অর্থনৈতিক গতিপ্রবাহকে ব...    4\n",
       "3                                     চুরি নয় লুটপাট    4\n",
       "4  ইসলামী ব্যাংকের বর্তমান অবস্থা দেখে মনে হয় শাস...    2"
      ]
     },
     "execution_count": 5,
     "metadata": {},
     "output_type": "execute_result"
    }
   ],
   "source": [
    "le = LabelEncoder()\n",
    "data['tag'] = le.fit_transform(data['tag'])\n",
    "data.head()"
   ]
  },
  {
   "cell_type": "code",
   "execution_count": 6,
   "metadata": {},
   "outputs": [],
   "source": [
    "data['tag']=data['tag'].replace(3, 0)\n",
    "data['tag']=data['tag'].replace(4, 1)\n",
    "data = data[data['tag'] != 2]"
   ]
  },
  {
   "cell_type": "code",
   "execution_count": 7,
   "metadata": {},
   "outputs": [],
   "source": [
    "d = data['data'].tolist()"
   ]
  },
  {
   "cell_type": "code",
   "execution_count": 8,
   "metadata": {},
   "outputs": [],
   "source": [
    "corpus = []\n",
    "for i in range(len(d)):\n",
    "    corpus.append(word_tokenize(d[i]))"
   ]
  },
  {
   "cell_type": "code",
   "execution_count": 9,
   "metadata": {},
   "outputs": [],
   "source": [
    "X = np.zeros((len(corpus),size)) #Initializing the X matrix with zeros\n",
    "for i in range(len(corpus)):\n",
    "    emb = np.zeros((1,size))\n",
    "    for w in corpus[i]:\n",
    "        emb = emb +  ft.get_word_vector(w)\n",
    "    X[i] = emb "
   ]
  },
  {
   "cell_type": "code",
   "execution_count": 10,
   "metadata": {},
   "outputs": [
    {
     "data": {
      "text/plain": [
       "(10851, 300)"
      ]
     },
     "execution_count": 10,
     "metadata": {},
     "output_type": "execute_result"
    }
   ],
   "source": [
    "X.shape"
   ]
  },
  {
   "cell_type": "code",
   "execution_count": 11,
   "metadata": {},
   "outputs": [],
   "source": [
    "label = data['tag'].tolist()"
   ]
  },
  {
   "cell_type": "code",
   "execution_count": 12,
   "metadata": {},
   "outputs": [
    {
     "data": {
      "text/plain": [
       "array([[-0.37828979, -0.04378794,  0.23310615, ..., -0.06681073,\n",
       "        -0.12661806,  0.12669656],\n",
       "       [-0.25136444,  0.22654375,  0.46401597, ...,  0.1926942 ,\n",
       "         0.05018288,  0.07072022],\n",
       "       [ 0.09825953,  0.08709   ,  0.57615013, ...,  0.22304522,\n",
       "        -0.05002635,  0.14549997],\n",
       "       ...,\n",
       "       [ 0.27185835,  0.2157141 ,  0.0677567 , ..., -0.18926774,\n",
       "        -0.19962261,  0.0276139 ],\n",
       "       [ 0.0516738 ,  0.26223405,  2.3724848 , ...,  1.73536816,\n",
       "        -0.26992876,  0.37989296],\n",
       "       [-0.25754698,  0.20448918,  1.23240456, ...,  0.59066546,\n",
       "        -0.01719962, -0.21660657]])"
      ]
     },
     "execution_count": 12,
     "metadata": {},
     "output_type": "execute_result"
    }
   ],
   "source": [
    "X"
   ]
  },
  {
   "cell_type": "code",
   "execution_count": 13,
   "metadata": {},
   "outputs": [],
   "source": [
    "X_train, X_test, y_train, y_test = train_test_split(X,label, test_size = 0.20, random_state = 42)"
   ]
  },
  {
   "cell_type": "code",
   "execution_count": 14,
   "metadata": {},
   "outputs": [
    {
     "data": {
      "text/plain": [
       "SVC()"
      ]
     },
     "execution_count": 14,
     "metadata": {},
     "output_type": "execute_result"
    }
   ],
   "source": [
    "s = SVC()\n",
    "s.fit(X_train,y_train)"
   ]
  },
  {
   "cell_type": "code",
   "execution_count": 15,
   "metadata": {},
   "outputs": [],
   "source": [
    "y=s.predict(X_test)"
   ]
  },
  {
   "cell_type": "code",
   "execution_count": 16,
   "metadata": {},
   "outputs": [
    {
     "name": "stdout",
     "output_type": "stream",
     "text": [
      "              precision    recall  f1-score   support\n",
      "\n",
      "           0       0.70      0.34      0.46       719\n",
      "           1       0.74      0.93      0.82      1452\n",
      "\n",
      "    accuracy                           0.73      2171\n",
      "   macro avg       0.72      0.63      0.64      2171\n",
      "weighted avg       0.72      0.73      0.70      2171\n",
      "\n"
     ]
    }
   ],
   "source": [
    "print(classification_report(y_test, y))"
   ]
  },
  {
   "cell_type": "code",
   "execution_count": 17,
   "metadata": {},
   "outputs": [
    {
     "data": {
      "text/plain": [
       "array([[ 243,  476],\n",
       "       [ 106, 1346]])"
      ]
     },
     "execution_count": 17,
     "metadata": {},
     "output_type": "execute_result"
    }
   ],
   "source": [
    "confusion_matrix(y_test,y)"
   ]
  },
  {
   "cell_type": "code",
   "execution_count": 19,
   "metadata": {},
   "outputs": [
    {
     "data": {
      "text/plain": [
       "0.7319207738369415"
      ]
     },
     "execution_count": 19,
     "metadata": {},
     "output_type": "execute_result"
    }
   ],
   "source": [
    "accuracy_score(y_test,y)"
   ]
  },
  {
   "cell_type": "code",
   "execution_count": 24,
   "metadata": {},
   "outputs": [],
   "source": [
    "columns = [\"data\", \"tag\"]"
   ]
  },
  {
   "cell_type": "code",
   "execution_count": 34,
   "metadata": {},
   "outputs": [],
   "source": [
    "D = pd.DataFrame(X,label)"
   ]
  },
  {
   "cell_type": "code",
   "execution_count": 35,
   "metadata": {},
   "outputs": [
    {
     "data": {
      "text/html": [
       "<div>\n",
       "<style scoped>\n",
       "    .dataframe tbody tr th:only-of-type {\n",
       "        vertical-align: middle;\n",
       "    }\n",
       "\n",
       "    .dataframe tbody tr th {\n",
       "        vertical-align: top;\n",
       "    }\n",
       "\n",
       "    .dataframe thead th {\n",
       "        text-align: right;\n",
       "    }\n",
       "</style>\n",
       "<table border=\"1\" class=\"dataframe\">\n",
       "  <thead>\n",
       "    <tr style=\"text-align: right;\">\n",
       "      <th></th>\n",
       "      <th>0</th>\n",
       "      <th>1</th>\n",
       "      <th>2</th>\n",
       "      <th>3</th>\n",
       "      <th>4</th>\n",
       "      <th>5</th>\n",
       "      <th>6</th>\n",
       "      <th>7</th>\n",
       "      <th>8</th>\n",
       "      <th>9</th>\n",
       "      <th>...</th>\n",
       "      <th>290</th>\n",
       "      <th>291</th>\n",
       "      <th>292</th>\n",
       "      <th>293</th>\n",
       "      <th>294</th>\n",
       "      <th>295</th>\n",
       "      <th>296</th>\n",
       "      <th>297</th>\n",
       "      <th>298</th>\n",
       "      <th>299</th>\n",
       "    </tr>\n",
       "  </thead>\n",
       "  <tbody>\n",
       "    <tr>\n",
       "      <th>1</th>\n",
       "      <td>-0.378290</td>\n",
       "      <td>-0.043788</td>\n",
       "      <td>0.233106</td>\n",
       "      <td>-0.090659</td>\n",
       "      <td>0.118915</td>\n",
       "      <td>-0.049353</td>\n",
       "      <td>-0.049806</td>\n",
       "      <td>0.254180</td>\n",
       "      <td>-0.008129</td>\n",
       "      <td>0.176508</td>\n",
       "      <td>...</td>\n",
       "      <td>-0.097166</td>\n",
       "      <td>0.321108</td>\n",
       "      <td>-0.340186</td>\n",
       "      <td>0.149570</td>\n",
       "      <td>-0.040441</td>\n",
       "      <td>0.038749</td>\n",
       "      <td>0.088336</td>\n",
       "      <td>-0.066811</td>\n",
       "      <td>-0.126618</td>\n",
       "      <td>0.126697</td>\n",
       "    </tr>\n",
       "    <tr>\n",
       "      <th>1</th>\n",
       "      <td>-0.251364</td>\n",
       "      <td>0.226544</td>\n",
       "      <td>0.464016</td>\n",
       "      <td>0.011879</td>\n",
       "      <td>0.320993</td>\n",
       "      <td>-0.033505</td>\n",
       "      <td>0.360219</td>\n",
       "      <td>-0.167715</td>\n",
       "      <td>0.065820</td>\n",
       "      <td>0.018839</td>\n",
       "      <td>...</td>\n",
       "      <td>0.290203</td>\n",
       "      <td>0.129537</td>\n",
       "      <td>-0.087325</td>\n",
       "      <td>0.160740</td>\n",
       "      <td>0.133203</td>\n",
       "      <td>0.088300</td>\n",
       "      <td>0.291542</td>\n",
       "      <td>0.192694</td>\n",
       "      <td>0.050183</td>\n",
       "      <td>0.070720</td>\n",
       "    </tr>\n",
       "    <tr>\n",
       "      <th>1</th>\n",
       "      <td>0.098260</td>\n",
       "      <td>0.087090</td>\n",
       "      <td>0.576150</td>\n",
       "      <td>0.088225</td>\n",
       "      <td>0.457308</td>\n",
       "      <td>-0.024489</td>\n",
       "      <td>0.473699</td>\n",
       "      <td>-0.033325</td>\n",
       "      <td>0.278471</td>\n",
       "      <td>0.029632</td>\n",
       "      <td>...</td>\n",
       "      <td>0.198523</td>\n",
       "      <td>0.222916</td>\n",
       "      <td>-0.366944</td>\n",
       "      <td>0.070250</td>\n",
       "      <td>-0.203657</td>\n",
       "      <td>0.219363</td>\n",
       "      <td>0.195963</td>\n",
       "      <td>0.223045</td>\n",
       "      <td>-0.050026</td>\n",
       "      <td>0.145500</td>\n",
       "    </tr>\n",
       "    <tr>\n",
       "      <th>1</th>\n",
       "      <td>0.184548</td>\n",
       "      <td>-0.150249</td>\n",
       "      <td>0.020873</td>\n",
       "      <td>-0.054877</td>\n",
       "      <td>0.119825</td>\n",
       "      <td>0.037470</td>\n",
       "      <td>0.018902</td>\n",
       "      <td>-0.270851</td>\n",
       "      <td>0.137177</td>\n",
       "      <td>-0.128308</td>\n",
       "      <td>...</td>\n",
       "      <td>-0.048595</td>\n",
       "      <td>0.008552</td>\n",
       "      <td>-0.198847</td>\n",
       "      <td>0.162932</td>\n",
       "      <td>-0.119380</td>\n",
       "      <td>0.129476</td>\n",
       "      <td>0.111718</td>\n",
       "      <td>0.054402</td>\n",
       "      <td>-0.227317</td>\n",
       "      <td>0.080196</td>\n",
       "    </tr>\n",
       "    <tr>\n",
       "      <th>1</th>\n",
       "      <td>-0.105030</td>\n",
       "      <td>-0.194530</td>\n",
       "      <td>0.143979</td>\n",
       "      <td>0.003676</td>\n",
       "      <td>0.213265</td>\n",
       "      <td>0.055439</td>\n",
       "      <td>0.263004</td>\n",
       "      <td>-0.193778</td>\n",
       "      <td>0.170977</td>\n",
       "      <td>-0.284729</td>\n",
       "      <td>...</td>\n",
       "      <td>0.108776</td>\n",
       "      <td>0.083513</td>\n",
       "      <td>-0.404863</td>\n",
       "      <td>0.026492</td>\n",
       "      <td>-0.173545</td>\n",
       "      <td>0.057736</td>\n",
       "      <td>0.382859</td>\n",
       "      <td>0.204093</td>\n",
       "      <td>-0.207998</td>\n",
       "      <td>-0.164038</td>\n",
       "    </tr>\n",
       "  </tbody>\n",
       "</table>\n",
       "<p>5 rows × 300 columns</p>\n",
       "</div>"
      ],
      "text/plain": [
       "        0         1         2         3         4         5         6    \\\n",
       "1 -0.378290 -0.043788  0.233106 -0.090659  0.118915 -0.049353 -0.049806   \n",
       "1 -0.251364  0.226544  0.464016  0.011879  0.320993 -0.033505  0.360219   \n",
       "1  0.098260  0.087090  0.576150  0.088225  0.457308 -0.024489  0.473699   \n",
       "1  0.184548 -0.150249  0.020873 -0.054877  0.119825  0.037470  0.018902   \n",
       "1 -0.105030 -0.194530  0.143979  0.003676  0.213265  0.055439  0.263004   \n",
       "\n",
       "        7         8         9    ...       290       291       292       293  \\\n",
       "1  0.254180 -0.008129  0.176508  ... -0.097166  0.321108 -0.340186  0.149570   \n",
       "1 -0.167715  0.065820  0.018839  ...  0.290203  0.129537 -0.087325  0.160740   \n",
       "1 -0.033325  0.278471  0.029632  ...  0.198523  0.222916 -0.366944  0.070250   \n",
       "1 -0.270851  0.137177 -0.128308  ... -0.048595  0.008552 -0.198847  0.162932   \n",
       "1 -0.193778  0.170977 -0.284729  ...  0.108776  0.083513 -0.404863  0.026492   \n",
       "\n",
       "        294       295       296       297       298       299  \n",
       "1 -0.040441  0.038749  0.088336 -0.066811 -0.126618  0.126697  \n",
       "1  0.133203  0.088300  0.291542  0.192694  0.050183  0.070720  \n",
       "1 -0.203657  0.219363  0.195963  0.223045 -0.050026  0.145500  \n",
       "1 -0.119380  0.129476  0.111718  0.054402 -0.227317  0.080196  \n",
       "1 -0.173545  0.057736  0.382859  0.204093 -0.207998 -0.164038  \n",
       "\n",
       "[5 rows x 300 columns]"
      ]
     },
     "execution_count": 35,
     "metadata": {},
     "output_type": "execute_result"
    }
   ],
   "source": [
    "D.head()"
   ]
  },
  {
   "cell_type": "code",
   "execution_count": 37,
   "metadata": {},
   "outputs": [],
   "source": [
    "np.savetxt(\"X.csv\", X, delimiter=\",\")\n",
    "np.savetxt(\"label.csv\", label, delimiter=\",\")"
   ]
  },
  {
   "cell_type": "code",
   "execution_count": 38,
   "metadata": {},
   "outputs": [],
   "source": [
    "D['label']=label"
   ]
  },
  {
   "cell_type": "code",
   "execution_count": 40,
   "metadata": {},
   "outputs": [
    {
     "data": {
      "text/html": [
       "<div>\n",
       "<style scoped>\n",
       "    .dataframe tbody tr th:only-of-type {\n",
       "        vertical-align: middle;\n",
       "    }\n",
       "\n",
       "    .dataframe tbody tr th {\n",
       "        vertical-align: top;\n",
       "    }\n",
       "\n",
       "    .dataframe thead th {\n",
       "        text-align: right;\n",
       "    }\n",
       "</style>\n",
       "<table border=\"1\" class=\"dataframe\">\n",
       "  <thead>\n",
       "    <tr style=\"text-align: right;\">\n",
       "      <th></th>\n",
       "      <th>0</th>\n",
       "      <th>1</th>\n",
       "      <th>2</th>\n",
       "      <th>3</th>\n",
       "      <th>4</th>\n",
       "      <th>5</th>\n",
       "      <th>6</th>\n",
       "      <th>7</th>\n",
       "      <th>8</th>\n",
       "      <th>9</th>\n",
       "      <th>...</th>\n",
       "      <th>291</th>\n",
       "      <th>292</th>\n",
       "      <th>293</th>\n",
       "      <th>294</th>\n",
       "      <th>295</th>\n",
       "      <th>296</th>\n",
       "      <th>297</th>\n",
       "      <th>298</th>\n",
       "      <th>299</th>\n",
       "      <th>label</th>\n",
       "    </tr>\n",
       "  </thead>\n",
       "  <tbody>\n",
       "    <tr>\n",
       "      <th>1</th>\n",
       "      <td>-0.378290</td>\n",
       "      <td>-0.043788</td>\n",
       "      <td>0.233106</td>\n",
       "      <td>-0.090659</td>\n",
       "      <td>0.118915</td>\n",
       "      <td>-0.049353</td>\n",
       "      <td>-0.049806</td>\n",
       "      <td>0.254180</td>\n",
       "      <td>-0.008129</td>\n",
       "      <td>0.176508</td>\n",
       "      <td>...</td>\n",
       "      <td>0.321108</td>\n",
       "      <td>-0.340186</td>\n",
       "      <td>0.149570</td>\n",
       "      <td>-0.040441</td>\n",
       "      <td>0.038749</td>\n",
       "      <td>0.088336</td>\n",
       "      <td>-0.066811</td>\n",
       "      <td>-0.126618</td>\n",
       "      <td>0.126697</td>\n",
       "      <td>1</td>\n",
       "    </tr>\n",
       "    <tr>\n",
       "      <th>1</th>\n",
       "      <td>-0.251364</td>\n",
       "      <td>0.226544</td>\n",
       "      <td>0.464016</td>\n",
       "      <td>0.011879</td>\n",
       "      <td>0.320993</td>\n",
       "      <td>-0.033505</td>\n",
       "      <td>0.360219</td>\n",
       "      <td>-0.167715</td>\n",
       "      <td>0.065820</td>\n",
       "      <td>0.018839</td>\n",
       "      <td>...</td>\n",
       "      <td>0.129537</td>\n",
       "      <td>-0.087325</td>\n",
       "      <td>0.160740</td>\n",
       "      <td>0.133203</td>\n",
       "      <td>0.088300</td>\n",
       "      <td>0.291542</td>\n",
       "      <td>0.192694</td>\n",
       "      <td>0.050183</td>\n",
       "      <td>0.070720</td>\n",
       "      <td>1</td>\n",
       "    </tr>\n",
       "    <tr>\n",
       "      <th>1</th>\n",
       "      <td>0.098260</td>\n",
       "      <td>0.087090</td>\n",
       "      <td>0.576150</td>\n",
       "      <td>0.088225</td>\n",
       "      <td>0.457308</td>\n",
       "      <td>-0.024489</td>\n",
       "      <td>0.473699</td>\n",
       "      <td>-0.033325</td>\n",
       "      <td>0.278471</td>\n",
       "      <td>0.029632</td>\n",
       "      <td>...</td>\n",
       "      <td>0.222916</td>\n",
       "      <td>-0.366944</td>\n",
       "      <td>0.070250</td>\n",
       "      <td>-0.203657</td>\n",
       "      <td>0.219363</td>\n",
       "      <td>0.195963</td>\n",
       "      <td>0.223045</td>\n",
       "      <td>-0.050026</td>\n",
       "      <td>0.145500</td>\n",
       "      <td>1</td>\n",
       "    </tr>\n",
       "    <tr>\n",
       "      <th>1</th>\n",
       "      <td>0.184548</td>\n",
       "      <td>-0.150249</td>\n",
       "      <td>0.020873</td>\n",
       "      <td>-0.054877</td>\n",
       "      <td>0.119825</td>\n",
       "      <td>0.037470</td>\n",
       "      <td>0.018902</td>\n",
       "      <td>-0.270851</td>\n",
       "      <td>0.137177</td>\n",
       "      <td>-0.128308</td>\n",
       "      <td>...</td>\n",
       "      <td>0.008552</td>\n",
       "      <td>-0.198847</td>\n",
       "      <td>0.162932</td>\n",
       "      <td>-0.119380</td>\n",
       "      <td>0.129476</td>\n",
       "      <td>0.111718</td>\n",
       "      <td>0.054402</td>\n",
       "      <td>-0.227317</td>\n",
       "      <td>0.080196</td>\n",
       "      <td>1</td>\n",
       "    </tr>\n",
       "    <tr>\n",
       "      <th>1</th>\n",
       "      <td>-0.105030</td>\n",
       "      <td>-0.194530</td>\n",
       "      <td>0.143979</td>\n",
       "      <td>0.003676</td>\n",
       "      <td>0.213265</td>\n",
       "      <td>0.055439</td>\n",
       "      <td>0.263004</td>\n",
       "      <td>-0.193778</td>\n",
       "      <td>0.170977</td>\n",
       "      <td>-0.284729</td>\n",
       "      <td>...</td>\n",
       "      <td>0.083513</td>\n",
       "      <td>-0.404863</td>\n",
       "      <td>0.026492</td>\n",
       "      <td>-0.173545</td>\n",
       "      <td>0.057736</td>\n",
       "      <td>0.382859</td>\n",
       "      <td>0.204093</td>\n",
       "      <td>-0.207998</td>\n",
       "      <td>-0.164038</td>\n",
       "      <td>1</td>\n",
       "    </tr>\n",
       "  </tbody>\n",
       "</table>\n",
       "<p>5 rows × 301 columns</p>\n",
       "</div>"
      ],
      "text/plain": [
       "          0         1         2         3         4         5         6  \\\n",
       "1 -0.378290 -0.043788  0.233106 -0.090659  0.118915 -0.049353 -0.049806   \n",
       "1 -0.251364  0.226544  0.464016  0.011879  0.320993 -0.033505  0.360219   \n",
       "1  0.098260  0.087090  0.576150  0.088225  0.457308 -0.024489  0.473699   \n",
       "1  0.184548 -0.150249  0.020873 -0.054877  0.119825  0.037470  0.018902   \n",
       "1 -0.105030 -0.194530  0.143979  0.003676  0.213265  0.055439  0.263004   \n",
       "\n",
       "          7         8         9  ...       291       292       293       294  \\\n",
       "1  0.254180 -0.008129  0.176508  ...  0.321108 -0.340186  0.149570 -0.040441   \n",
       "1 -0.167715  0.065820  0.018839  ...  0.129537 -0.087325  0.160740  0.133203   \n",
       "1 -0.033325  0.278471  0.029632  ...  0.222916 -0.366944  0.070250 -0.203657   \n",
       "1 -0.270851  0.137177 -0.128308  ...  0.008552 -0.198847  0.162932 -0.119380   \n",
       "1 -0.193778  0.170977 -0.284729  ...  0.083513 -0.404863  0.026492 -0.173545   \n",
       "\n",
       "        295       296       297       298       299  label  \n",
       "1  0.038749  0.088336 -0.066811 -0.126618  0.126697      1  \n",
       "1  0.088300  0.291542  0.192694  0.050183  0.070720      1  \n",
       "1  0.219363  0.195963  0.223045 -0.050026  0.145500      1  \n",
       "1  0.129476  0.111718  0.054402 -0.227317  0.080196      1  \n",
       "1  0.057736  0.382859  0.204093 -0.207998 -0.164038      1  \n",
       "\n",
       "[5 rows x 301 columns]"
      ]
     },
     "execution_count": 40,
     "metadata": {},
     "output_type": "execute_result"
    }
   ],
   "source": [
    "D.head()"
   ]
  },
  {
   "cell_type": "code",
   "execution_count": 43,
   "metadata": {},
   "outputs": [],
   "source": [
    "D.to_csv('Data.csv')"
   ]
  },
  {
   "cell_type": "code",
   "execution_count": null,
   "metadata": {},
   "outputs": [],
   "source": []
  }
 ],
 "metadata": {
  "kernelspec": {
   "display_name": "Python 3.8.0 64-bit",
   "language": "python",
   "name": "python38064bit1060d4750c904259afeb7847dfa8ded2"
  },
  "language_info": {
   "codemirror_mode": {
    "name": "ipython",
    "version": 3
   },
   "file_extension": ".py",
   "mimetype": "text/x-python",
   "name": "python",
   "nbconvert_exporter": "python",
   "pygments_lexer": "ipython3",
   "version": "3.9.0"
  }
 },
 "nbformat": 4,
 "nbformat_minor": 4
}
