{
 "cells": [
  {
   "cell_type": "code",
   "execution_count": 1,
   "metadata": {
    "id": "RXiCjQPIGYWR"
   },
   "outputs": [],
   "source": [
    "import pandas as pd\n",
    "from sklearn.feature_extraction.text import CountVectorizer, TfidfVectorizer \n",
    "from sklearn.preprocessing import LabelEncoder\n",
    "from sklearn.model_selection import train_test_split\n",
    "from sklearn.model_selection import GridSearchCV\n",
    "from sklearn.decomposition import PCA,SparsePCA\n",
    "import numpy as np\n",
    "import re\n",
    "from sklearn.ensemble import RandomForestClassifier\n",
    "from sklearn.naive_bayes import GaussianNB\n",
    "from sklearn import metrics\n",
    "from scipy.stats import uniform, truncnorm, randint\n",
    "from sklearn.decomposition import TruncatedSVD\n",
    "from sklearn.metrics import confusion_matrix\n",
    "from sklearn import tree\n",
    "from sklearn.utils import class_weight\n",
    "import gensim\n",
    "from gensim.models import KeyedVectors, Word2Vec, FastText\n",
    "from nltk.tokenize import word_tokenize\n",
    "from sklearn.model_selection import train_test_split, GridSearchCV\n",
    "from sklearn.metrics import accuracy_score, f1_score, precision_score, recall_score, confusion_matrix,classification_report"
   ]
  },
  {
   "cell_type": "code",
   "execution_count": 2,
   "metadata": {
    "colab": {
     "base_uri": "https://localhost:8080/",
     "height": 204
    },
    "id": "QaYiiK2tGYWa",
    "outputId": "ca9ba812-c3f2-4335-f776-85a94a9a1dfa"
   },
   "outputs": [
    {
     "data": {
      "text/html": [
       "<div>\n",
       "<style scoped>\n",
       "    .dataframe tbody tr th:only-of-type {\n",
       "        vertical-align: middle;\n",
       "    }\n",
       "\n",
       "    .dataframe tbody tr th {\n",
       "        vertical-align: top;\n",
       "    }\n",
       "\n",
       "    .dataframe thead th {\n",
       "        text-align: right;\n",
       "    }\n",
       "</style>\n",
       "<table border=\"1\" class=\"dataframe\">\n",
       "  <thead>\n",
       "    <tr style=\"text-align: right;\">\n",
       "      <th></th>\n",
       "      <th>data</th>\n",
       "      <th>tag</th>\n",
       "    </tr>\n",
       "  </thead>\n",
       "  <tbody>\n",
       "    <tr>\n",
       "      <th>0</th>\n",
       "      <td>লিখার সময় পারলে সত্য লিখার অভ্যাস শিখুন।</td>\n",
       "      <td>কিছুটা নেতিবাচক</td>\n",
       "    </tr>\n",
       "    <tr>\n",
       "      <th>1</th>\n",
       "      <td>এটা কেন হচ্ছে? সংশ্লিষ্ট সকলের ডিপ্রেশনের ফলে?...</td>\n",
       "      <td>কিছুটা নেতিবাচক</td>\n",
       "    </tr>\n",
       "    <tr>\n",
       "      <th>2</th>\n",
       "      <td>আমাদের দেশের স্বাভাবিক অর্থনৈতিক গতিপ্রবাহকে ব...</td>\n",
       "      <td>নিশ্চিত নেতিবাচক</td>\n",
       "    </tr>\n",
       "    <tr>\n",
       "      <th>3</th>\n",
       "      <td>চুরি নয় লুটপাট।</td>\n",
       "      <td>নিশ্চিত নেতিবাচক</td>\n",
       "    </tr>\n",
       "    <tr>\n",
       "      <th>4</th>\n",
       "      <td>ইসলামী ব্যাংকের বর্তমান অবস্থা দেখে মনে হয় শাস...</td>\n",
       "      <td>নিরপেক্ষ</td>\n",
       "    </tr>\n",
       "  </tbody>\n",
       "</table>\n",
       "</div>"
      ],
      "text/plain": [
       "                                                data               tag\n",
       "0           লিখার সময় পারলে সত্য লিখার অভ্যাস শিখুন।   কিছুটা নেতিবাচক\n",
       "1  এটা কেন হচ্ছে? সংশ্লিষ্ট সকলের ডিপ্রেশনের ফলে?...   কিছুটা নেতিবাচক\n",
       "2  আমাদের দেশের স্বাভাবিক অর্থনৈতিক গতিপ্রবাহকে ব...  নিশ্চিত নেতিবাচক\n",
       "3                                    চুরি নয় লুটপাট।  নিশ্চিত নেতিবাচক\n",
       "4  ইসলামী ব্যাংকের বর্তমান অবস্থা দেখে মনে হয় শাস...          নিরপেক্ষ"
      ]
     },
     "execution_count": 2,
     "metadata": {
      "tags": []
     },
     "output_type": "execute_result"
    }
   ],
   "source": [
    "link = 'https://raw.githubusercontent.com/python-for-ml/sent-analysis/master/finaldataset.csv'\n",
    "data = pd.read_csv(link)\n",
    "data=data.drop(['title_x','title_y','title','value'],axis=1)\n",
    "data.head()"
   ]
  },
  {
   "cell_type": "code",
   "execution_count": 3,
   "metadata": {
    "colab": {
     "base_uri": "https://localhost:8080/",
     "height": 204
    },
    "id": "uH3RLNYLGYWh",
    "outputId": "8b8e28d7-4717-4333-9b79-35e904fd8785"
   },
   "outputs": [
    {
     "data": {
      "text/html": [
       "<div>\n",
       "<style scoped>\n",
       "    .dataframe tbody tr th:only-of-type {\n",
       "        vertical-align: middle;\n",
       "    }\n",
       "\n",
       "    .dataframe tbody tr th {\n",
       "        vertical-align: top;\n",
       "    }\n",
       "\n",
       "    .dataframe thead th {\n",
       "        text-align: right;\n",
       "    }\n",
       "</style>\n",
       "<table border=\"1\" class=\"dataframe\">\n",
       "  <thead>\n",
       "    <tr style=\"text-align: right;\">\n",
       "      <th></th>\n",
       "      <th>data</th>\n",
       "      <th>tag</th>\n",
       "    </tr>\n",
       "  </thead>\n",
       "  <tbody>\n",
       "    <tr>\n",
       "      <th>0</th>\n",
       "      <td>লিখার সময় পারলে সত্য লিখার অভ্যাস শিখুন।</td>\n",
       "      <td>1</td>\n",
       "    </tr>\n",
       "    <tr>\n",
       "      <th>1</th>\n",
       "      <td>এটা কেন হচ্ছে? সংশ্লিষ্ট সকলের ডিপ্রেশনের ফলে?...</td>\n",
       "      <td>1</td>\n",
       "    </tr>\n",
       "    <tr>\n",
       "      <th>2</th>\n",
       "      <td>আমাদের দেশের স্বাভাবিক অর্থনৈতিক গতিপ্রবাহকে ব...</td>\n",
       "      <td>4</td>\n",
       "    </tr>\n",
       "    <tr>\n",
       "      <th>3</th>\n",
       "      <td>চুরি নয় লুটপাট।</td>\n",
       "      <td>4</td>\n",
       "    </tr>\n",
       "    <tr>\n",
       "      <th>4</th>\n",
       "      <td>ইসলামী ব্যাংকের বর্তমান অবস্থা দেখে মনে হয় শাস...</td>\n",
       "      <td>2</td>\n",
       "    </tr>\n",
       "  </tbody>\n",
       "</table>\n",
       "</div>"
      ],
      "text/plain": [
       "                                                data  tag\n",
       "0           লিখার সময় পারলে সত্য লিখার অভ্যাস শিখুন।    1\n",
       "1  এটা কেন হচ্ছে? সংশ্লিষ্ট সকলের ডিপ্রেশনের ফলে?...    1\n",
       "2  আমাদের দেশের স্বাভাবিক অর্থনৈতিক গতিপ্রবাহকে ব...    4\n",
       "3                                    চুরি নয় লুটপাট।    4\n",
       "4  ইসলামী ব্যাংকের বর্তমান অবস্থা দেখে মনে হয় শাস...    2"
      ]
     },
     "execution_count": 3,
     "metadata": {
      "tags": []
     },
     "output_type": "execute_result"
    }
   ],
   "source": [
    "le = LabelEncoder()\n",
    "data['tag'] = le.fit_transform(data['tag'])\n",
    "data.head()"
   ]
  },
  {
   "cell_type": "code",
   "execution_count": 4,
   "metadata": {
    "id": "sHEvuBOhvlde"
   },
   "outputs": [],
   "source": [
    "data['tag']=data['tag'].replace(3, 0)\n",
    "data['tag']=data['tag'].replace(4, 1)\n",
    "data = data[data['tag'] != 2]"
   ]
  },
  {
   "cell_type": "code",
   "execution_count": 5,
   "metadata": {
    "id": "TQ6_Z0eVGYWl"
   },
   "outputs": [],
   "source": [
    "d = data['data'].tolist()\n",
    "label = data['tag'].tolist()"
   ]
  },
  {
   "cell_type": "code",
   "execution_count": 6,
   "metadata": {
    "id": "Q_wUSNpZGYWp"
   },
   "outputs": [],
   "source": [
    "for i in range(len(d)):\n",
    "    d[i] = re.sub(r'[^\\w\\s]', '', d[i])"
   ]
  },
  {
   "cell_type": "code",
   "execution_count": 7,
   "metadata": {
    "colab": {
     "base_uri": "https://localhost:8080/"
    },
    "id": "mKkrCz-tu74l",
    "outputId": "8df71ece-98ad-44a5-928c-559859a85962"
   },
   "outputs": [
    {
     "name": "stdout",
     "output_type": "stream",
     "text": [
      "[nltk_data] Downloading package punkt to /root/nltk_data...\n",
      "[nltk_data]   Unzipping tokenizers/punkt.zip.\n"
     ]
    },
    {
     "data": {
      "text/plain": [
       "True"
      ]
     },
     "execution_count": 7,
     "metadata": {
      "tags": []
     },
     "output_type": "execute_result"
    }
   ],
   "source": [
    "import nltk\n",
    "nltk.download('punkt')"
   ]
  },
  {
   "cell_type": "code",
   "execution_count": 8,
   "metadata": {
    "id": "Zy7RDwAE07jR"
   },
   "outputs": [],
   "source": [
    "corpus = []\n",
    "for i in range(len(d)):\n",
    "    corpus.append(word_tokenize(d[i]))"
   ]
  },
  {
   "cell_type": "code",
   "execution_count": 9,
   "metadata": {
    "id": "wDQ_41shh7BC"
   },
   "outputs": [],
   "source": [
    "vectorizer=CountVectorizer()\n",
    "vocabulary=vectorizer.fit(d)\n",
    "X= vectorizer.transform(d)\n",
    "size = round(len(vocabulary.get_feature_names())**0.65)"
   ]
  },
  {
   "cell_type": "code",
   "execution_count": 10,
   "metadata": {
    "colab": {
     "base_uri": "https://localhost:8080/"
    },
    "id": "7JuClPCCid50",
    "outputId": "01b3bdba-f80c-4936-befa-ac2c4beef53a"
   },
   "outputs": [
    {
     "data": {
      "text/plain": [
       "664"
      ]
     },
     "execution_count": 10,
     "metadata": {
      "tags": []
     },
     "output_type": "execute_result"
    }
   ],
   "source": [
    "size"
   ]
  },
  {
   "cell_type": "code",
   "execution_count": 11,
   "metadata": {
    "id": "Xi15hcE3iZj7"
   },
   "outputs": [],
   "source": [
    "wvmodel = Word2Vec(corpus, size=size, window=4, min_count=1)"
   ]
  },
  {
   "cell_type": "code",
   "execution_count": 12,
   "metadata": {
    "colab": {
     "base_uri": "https://localhost:8080/"
    },
    "id": "C-_B5fwYjBZ3",
    "outputId": "c9f8c9ae-0648-4774-acab-1459bf629bf6"
   },
   "outputs": [
    {
     "name": "stderr",
     "output_type": "stream",
     "text": [
      "/usr/local/lib/python3.6/dist-packages/ipykernel_launcher.py:5: DeprecationWarning: Call to deprecated `__getitem__` (Method will be removed in 4.0.0, use self.wv.__getitem__() instead).\n",
      "  \"\"\"\n"
     ]
    }
   ],
   "source": [
    "X = np.zeros((len(corpus),size)) #Initializing the X matrix with zeros\n",
    "for i in range(len(corpus)):\n",
    "    emb = np.zeros((1,size))\n",
    "    for w in corpus[i]:\n",
    "        emb = emb +  wvmodel[w]\n",
    "    X[i] = emb "
   ]
  },
  {
   "cell_type": "code",
   "execution_count": 13,
   "metadata": {
    "id": "9yxebxz5GYWy"
   },
   "outputs": [],
   "source": [
    "X_train, X_test, y_train, y_test = train_test_split(X,label, test_size=0.2)"
   ]
  },
  {
   "cell_type": "code",
   "execution_count": 14,
   "metadata": {
    "id": "NvF1jBJaulVR"
   },
   "outputs": [],
   "source": [
    "class_weights = class_weight.compute_class_weight('balanced',np.unique(y_train),y_train)"
   ]
  },
  {
   "cell_type": "code",
   "execution_count": 15,
   "metadata": {
    "colab": {
     "base_uri": "https://localhost:8080/"
    },
    "id": "f4TysIVnulVU",
    "outputId": "ff7e63ce-71c9-4987-e73e-c171176d335c"
   },
   "outputs": [
    {
     "data": {
      "text/plain": [
       "array([1.47218453, 0.75715283])"
      ]
     },
     "execution_count": 15,
     "metadata": {
      "tags": []
     },
     "output_type": "execute_result"
    }
   ],
   "source": [
    "class_weights\n"
   ]
  },
  {
   "cell_type": "code",
   "execution_count": 23,
   "metadata": {
    "id": "7GQJYq3mulVW"
   },
   "outputs": [],
   "source": [
    "cw = {0:1.6*class_weights[0],1:class_weights[1]}\n",
    "cw_DT = {0:1.3*class_weights[0],1:class_weights[1]}"
   ]
  },
  {
   "cell_type": "code",
   "execution_count": 42,
   "metadata": {
    "id": "1pl4b9c22Kgm"
   },
   "outputs": [],
   "source": [
    "param_grid = { \n",
    "    'max_features': ['auto', 'sqrt', 'log2'],\n",
    "    'max_depth' : [49,48,50,52],\n",
    "    'criterion' : ['gini', 'entropy']\n",
    "}"
   ]
  },
  {
   "cell_type": "code",
   "execution_count": 43,
   "metadata": {
    "colab": {
     "base_uri": "https://localhost:8080/"
    },
    "id": "Nm8D0Ryhznfd",
    "outputId": "77345db0-1e01-4d5c-a8ae-7f8b452364a4"
   },
   "outputs": [
    {
     "data": {
      "text/plain": [
       "{'criterion': 'gini', 'max_depth': 48, 'max_features': 'auto'}"
      ]
     },
     "execution_count": 43,
     "metadata": {
      "tags": []
     },
     "output_type": "execute_result"
    }
   ],
   "source": [
    "rfc=RandomForestClassifier(class_weight = cw)\n",
    "CV_rfc = GridSearchCV(estimator=rfc, param_grid=param_grid)\n",
    "CV_rfc.fit(X_train, y_train)\n",
    "y_pred = CV_rfc.predict(X_test)\n",
    "CV_rfc.best_params_"
   ]
  },
  {
   "cell_type": "code",
   "execution_count": 44,
   "metadata": {
    "colab": {
     "base_uri": "https://localhost:8080/"
    },
    "id": "pjhGLs5tulVa",
    "outputId": "dd769974-04d3-47a4-bd04-38e788cede99"
   },
   "outputs": [
    {
     "data": {
      "text/plain": [
       "0.6361751152073734"
      ]
     },
     "execution_count": 44,
     "metadata": {
      "tags": []
     },
     "output_type": "execute_result"
    }
   ],
   "source": [
    "CV_rfc.best_score_"
   ]
  },
  {
   "cell_type": "code",
   "execution_count": 45,
   "metadata": {
    "colab": {
     "base_uri": "https://localhost:8080/"
    },
    "id": "BLBOnJTw0hlP",
    "outputId": "7cd0859f-7bc8-439c-e4ee-14357e579934"
   },
   "outputs": [
    {
     "name": "stdout",
     "output_type": "stream",
     "text": [
      "Accuracy  : 0.6457853523721787\n",
      "Precision : 0.6786096256684492\n",
      "F1-Score  : 0.767462957363169\n",
      "Recall    : 0.8830897703549061\n"
     ]
    }
   ],
   "source": [
    "print(\"Accuracy  :\",metrics.accuracy_score(y_test, y_pred))\n",
    "print(\"Precision :\",metrics.precision_score(y_test,y_pred))\n",
    "print(\"F1-Score  :\",metrics.f1_score(y_test,y_pred))\n",
    "print(\"Recall    :\",metrics.recall_score(y_test,y_pred))"
   ]
  },
  {
   "cell_type": "code",
   "execution_count": 46,
   "metadata": {
    "colab": {
     "base_uri": "https://localhost:8080/"
    },
    "id": "HmhG373Zj2wd",
    "outputId": "b0e61db6-e27e-4899-a80a-148d7e653037"
   },
   "outputs": [
    {
     "name": "stdout",
     "output_type": "stream",
     "text": [
      "[[ 133  601]\n",
      " [ 168 1269]]\n"
     ]
    }
   ],
   "source": [
    "print(confusion_matrix(y_test,y_pred))"
   ]
  },
  {
   "cell_type": "code",
   "execution_count": 47,
   "metadata": {
    "colab": {
     "base_uri": "https://localhost:8080/"
    },
    "id": "RnJDwL52ulVf",
    "outputId": "12ec866c-286a-4222-892d-0357c9c8395d"
   },
   "outputs": [
    {
     "name": "stdout",
     "output_type": "stream",
     "text": [
      "              precision    recall  f1-score   support\n",
      "\n",
      "           0       0.44      0.18      0.26       734\n",
      "           1       0.68      0.88      0.77      1437\n",
      "\n",
      "    accuracy                           0.65      2171\n",
      "   macro avg       0.56      0.53      0.51      2171\n",
      "weighted avg       0.60      0.65      0.59      2171\n",
      "\n"
     ]
    }
   ],
   "source": [
    "print(classification_report(y_test, y_pred))"
   ]
  },
  {
   "cell_type": "code",
   "execution_count": 17,
   "metadata": {
    "colab": {
     "base_uri": "https://localhost:8080/"
    },
    "id": "hEkh7yrGwOVP",
    "outputId": "49c3f950-bcf8-43f2-ae34-fb6cce778f07"
   },
   "outputs": [
    {
     "data": {
      "text/plain": [
       "GridSearchCV(cv=None, error_score=nan,\n",
       "             estimator=DecisionTreeClassifier(ccp_alpha=0.0,\n",
       "                                              class_weight={0: 1.4721845318860245,\n",
       "                                                            1: 0.7571528262386602},\n",
       "                                              criterion='gini', max_depth=None,\n",
       "                                              max_features=None,\n",
       "                                              max_leaf_nodes=None,\n",
       "                                              min_impurity_decrease=0.0,\n",
       "                                              min_impurity_split=None,\n",
       "                                              min_samples_leaf=1,\n",
       "                                              min_samples_split=2,\n",
       "                                              min_weight_fraction_leaf=0.0,\n",
       "                                              presort='deprecated',\n",
       "                                              random_state=None,\n",
       "                                              splitter='best'),\n",
       "             iid='deprecated', n_jobs=None,\n",
       "             param_grid={'criterion': ['gini', 'entropy'],\n",
       "                         'max_depth': [2, 3, 4, 5, 6, 7, 8, 9],\n",
       "                         'max_leaf_nodes': [2, 3, 4, 5, 6, 7, 8, 9],\n",
       "                         'min_samples_split': [2, 3, 4, 5, 6, 7, 8, 9]},\n",
       "             pre_dispatch='2*n_jobs', refit=True, return_train_score=False,\n",
       "             scoring=None, verbose=0)"
      ]
     },
     "execution_count": 17,
     "metadata": {
      "tags": []
     },
     "output_type": "execute_result"
    }
   ],
   "source": [
    "params = {'max_leaf_nodes': list(range(1, 10)), 'min_samples_split': list(range(1, 10)),'criterion' :['gini', 'entropy'],'max_depth':list(range(1, 10))}\n",
    "grid_search_cv = GridSearchCV(tree.DecisionTreeClassifier(class_weight = cw_DT), params)\n",
    "grid_search_cv.fit(X_train, y_train)"
   ]
  },
  {
   "cell_type": "code",
   "execution_count": 18,
   "metadata": {
    "id": "x52m8poK9ROA"
   },
   "outputs": [],
   "source": [
    "y_pred=grid_search_cv.predict(X_test)"
   ]
  },
  {
   "cell_type": "code",
   "execution_count": 19,
   "metadata": {
    "colab": {
     "base_uri": "https://localhost:8080/"
    },
    "id": "gw9Z_hL4v4xn",
    "outputId": "c0b93f9a-85f3-4911-df37-a14313694937"
   },
   "outputs": [
    {
     "name": "stdout",
     "output_type": "stream",
     "text": [
      "Accuracy  : 0.6568401658222017\n",
      "Precision : 0.6696288552012546\n",
      "F1-Score  : 0.7747202902933172\n",
      "Recall    : 0.9189383070301291\n"
     ]
    }
   ],
   "source": [
    "print(\"Accuracy  :\",metrics.accuracy_score(y_test, y_pred))\n",
    "print(\"Precision :\",metrics.precision_score(y_test,y_pred))\n",
    "print(\"F1-Score  :\",metrics.f1_score(y_test,y_pred))\n",
    "print(\"Recall    :\",metrics.recall_score(y_test,y_pred))"
   ]
  },
  {
   "cell_type": "code",
   "execution_count": 20,
   "metadata": {
    "colab": {
     "base_uri": "https://localhost:8080/"
    },
    "id": "H4eqMtqKulVk",
    "outputId": "92b0f403-447e-479e-c4b8-ae1e26315104"
   },
   "outputs": [
    {
     "name": "stdout",
     "output_type": "stream",
     "text": [
      "              precision    recall  f1-score   support\n",
      "\n",
      "           0       0.56      0.19      0.28       777\n",
      "           1       0.67      0.92      0.77      1394\n",
      "\n",
      "    accuracy                           0.66      2171\n",
      "   macro avg       0.62      0.55      0.53      2171\n",
      "weighted avg       0.63      0.66      0.60      2171\n",
      "\n"
     ]
    }
   ],
   "source": [
    "print(classification_report(y_test, y_pred))"
   ]
  },
  {
   "cell_type": "code",
   "execution_count": 21,
   "metadata": {
    "colab": {
     "base_uri": "https://localhost:8080/"
    },
    "id": "qgUts-9EwdY6",
    "outputId": "7f4970cb-63ce-4f69-ab19-b726c68777c1"
   },
   "outputs": [
    {
     "data": {
      "text/plain": [
       "array([[ 145,  632],\n",
       "       [ 113, 1281]])"
      ]
     },
     "execution_count": 21,
     "metadata": {
      "tags": []
     },
     "output_type": "execute_result"
    }
   ],
   "source": [
    "confusion_matrix(y_test,y_pred)"
   ]
  },
  {
   "cell_type": "code",
   "execution_count": 22,
   "metadata": {
    "colab": {
     "base_uri": "https://localhost:8080/"
    },
    "id": "yFF4mbktgKV-",
    "outputId": "8c1e675b-e223-455c-f5cc-8be6387736bd"
   },
   "outputs": [
    {
     "data": {
      "text/plain": [
       "{'criterion': 'gini',\n",
       " 'max_depth': 2,\n",
       " 'max_leaf_nodes': 3,\n",
       " 'min_samples_split': 2}"
      ]
     },
     "execution_count": 22,
     "metadata": {
      "tags": []
     },
     "output_type": "execute_result"
    }
   ],
   "source": [
    " grid_search_cv.best_params_"
   ]
  },
  {
   "cell_type": "code",
   "execution_count": null,
   "metadata": {},
   "outputs": [],
   "source": [
    "rfc = tree.DecisionTreeClassifier()"
   ]
  }
 ],
 "metadata": {
  "colab": {
   "collapsed_sections": [],
   "name": "RandomForest_DT-3.ipynb",
   "provenance": []
  },
  "kernelspec": {
   "display_name": "Python 3",
   "language": "python",
   "name": "python3"
  },
  "language_info": {
   "codemirror_mode": {
    "name": "ipython",
    "version": 3
   },
   "file_extension": ".py",
   "mimetype": "text/x-python",
   "name": "python",
   "nbconvert_exporter": "python",
   "pygments_lexer": "ipython3",
   "version": "3.9.0"
  }
 },
 "nbformat": 4,
 "nbformat_minor": 1
}
