{
 "cells": [
  {
   "cell_type": "code",
   "execution_count": 1,
   "metadata": {},
   "outputs": [],
   "source": [
    "import pandas as pd\n",
    "from sklearn.feature_extraction.text import CountVectorizer, TfidfVectorizer \n",
    "from sklearn.preprocessing import LabelEncoder\n",
    "from sklearn.model_selection import train_test_split\n",
    "from sklearn.model_selection import GridSearchCV\n",
    "from sklearn.decomposition import PCA,SparsePCA\n",
    "import numpy as np\n",
    "import re\n",
    "from sklearn import metrics\n",
    "from scipy.stats import uniform, truncnorm, randint\n",
    "from sklearn.decomposition import TruncatedSVD\n",
    "from sklearn.metrics import confusion_matrix\n",
    "from sklearn import tree\n",
    "from sklearn.utils import class_weight\n",
    "import gensim\n",
    "from sklearn.neighbors import KNeighborsClassifier\n",
    "from gensim.models import KeyedVectors, Word2Vec, FastText\n",
    "from nltk.tokenize import word_tokenize\n",
    "from sklearn.model_selection import train_test_split, GridSearchCV\n",
    "from sklearn.metrics import accuracy_score, f1_score, precision_score, recall_score, confusion_matrix,classification_report"
   ]
  },
  {
   "cell_type": "code",
   "execution_count": 2,
   "metadata": {},
   "outputs": [],
   "source": [
    "X_link = 'https://raw.githubusercontent.com/python-for-ml/sent-analysis/master/X.csv'\n",
    "X = pd.read_csv(X_link, header = None).to_numpy()"
   ]
  },
  {
   "cell_type": "code",
   "execution_count": 3,
   "metadata": {},
   "outputs": [],
   "source": [
    "label_link = 'https://raw.githubusercontent.com/python-for-ml/sent-analysis/master/label.csv'\n",
    "label = pd.read_csv(label_link, header = None)\n",
    "label = label.to_numpy().reshape([1, len(label)])[0]"
   ]
  },
  {
   "cell_type": "code",
   "execution_count": 4,
   "metadata": {},
   "outputs": [],
   "source": [
    "X_train, X_test, y_train, y_test = train_test_split(X,label, test_size=0.2)"
   ]
  },
  {
   "cell_type": "code",
   "execution_count": 5,
   "metadata": {},
   "outputs": [
    {
     "data": {
      "text/plain": [
       "array([1.45882353, 0.7607362 ])"
      ]
     },
     "execution_count": 5,
     "metadata": {},
     "output_type": "execute_result"
    }
   ],
   "source": [
    "class_weights = class_weight.compute_class_weight('balanced',np.unique(y_train),y_train)\n",
    "class_weights"
   ]
  },
  {
   "cell_type": "code",
   "execution_count": 6,
   "metadata": {},
   "outputs": [
    {
     "name": "stdout",
     "output_type": "stream",
     "text": [
      "{'n_neighbors': [25, 32, 48]}\n"
     ]
    }
   ],
   "source": [
    "param_grid = dict(n_neighbors=[25,32,48])\n",
    "print(param_grid)\n",
    "clf = GridSearchCV(KNeighborsClassifier(), param_grid, cv=10, scoring='accuracy')\n",
    "clf_results=clf.fit(X_train, y_train)"
   ]
  },
  {
   "cell_type": "code",
   "execution_count": 7,
   "metadata": {},
   "outputs": [
    {
     "name": "stdout",
     "output_type": "stream",
     "text": [
      "GridSearchCV(cv=10, error_score=nan,\n",
      "             estimator=KNeighborsClassifier(algorithm='auto', leaf_size=30,\n",
      "                                            metric='minkowski',\n",
      "                                            metric_params=None, n_jobs=None,\n",
      "                                            n_neighbors=5, p=2,\n",
      "                                            weights='uniform'),\n",
      "             iid='deprecated', n_jobs=None,\n",
      "             param_grid={'n_neighbors': [25, 32, 48]}, pre_dispatch='2*n_jobs',\n",
      "             refit=True, return_train_score=False, scoring='accuracy',\n",
      "             verbose=0)\n"
     ]
    },
    {
     "data": {
      "text/plain": [
       "{'mean_fit_time': array([0.47669492, 0.47946646, 0.46514623]),\n",
       " 'std_fit_time': array([0.02290693, 0.01619714, 0.00878465]),\n",
       " 'mean_score_time': array([3.29668372, 3.33440051, 3.33403676]),\n",
       " 'std_score_time': array([0.06397029, 0.05914865, 0.05610091]),\n",
       " 'param_n_neighbors': masked_array(data=[25, 32, 48],\n",
       "              mask=[False, False, False],\n",
       "        fill_value='?',\n",
       "             dtype=object),\n",
       " 'params': [{'n_neighbors': 25}, {'n_neighbors': 32}, {'n_neighbors': 48}],\n",
       " 'split0_test_score': array([0.67626728, 0.67396313, 0.67165899]),\n",
       " 'split1_test_score': array([0.72580645, 0.7235023 , 0.72004608]),\n",
       " 'split2_test_score': array([0.69585253, 0.69815668, 0.71082949]),\n",
       " 'split3_test_score': array([0.73271889, 0.73617512, 0.73041475]),\n",
       " 'split4_test_score': array([0.69815668, 0.69815668, 0.70391705]),\n",
       " 'split5_test_score': array([0.6843318 , 0.68087558, 0.68663594]),\n",
       " 'split6_test_score': array([0.71313364, 0.71889401, 0.71198157]),\n",
       " 'split7_test_score': array([0.7062212 , 0.70852535, 0.70737327]),\n",
       " 'split8_test_score': array([0.72119816, 0.72580645, 0.71543779]),\n",
       " 'split9_test_score': array([0.70506912, 0.7016129 , 0.71198157]),\n",
       " 'mean_test_score': array([0.70587558, 0.70656682, 0.70702765]),\n",
       " 'std_test_score': array([0.01704952, 0.01891683, 0.01589737]),\n",
       " 'rank_test_score': array([3, 2, 1])}"
      ]
     },
     "execution_count": 7,
     "metadata": {},
     "output_type": "execute_result"
    }
   ],
   "source": [
    "print(clf_results)\n",
    "clf_results.cv_results_"
   ]
  },
  {
   "cell_type": "code",
   "execution_count": 8,
   "metadata": {},
   "outputs": [
    {
     "data": {
      "text/plain": [
       "array([1., 1., 1., ..., 1., 0., 1.])"
      ]
     },
     "execution_count": 8,
     "metadata": {},
     "output_type": "execute_result"
    }
   ],
   "source": [
    "y_pred = clf.predict(X_test)\n",
    "y_pred"
   ]
  },
  {
   "cell_type": "code",
   "execution_count": 9,
   "metadata": {},
   "outputs": [
    {
     "name": "stdout",
     "output_type": "stream",
     "text": [
      "Confusion matrix:\n",
      " [[ 203  547]\n",
      " [ 111 1310]]\n",
      "Accuracy  : 0.6969138645785352\n",
      "Precision : 0.7054388799138396\n",
      "F1-Score  : 0.7992678462477122\n",
      "Recall    : 0.9218859957776214\n"
     ]
    }
   ],
   "source": [
    "conf_mat = confusion_matrix(y_test, y_pred)\n",
    "print(\"Confusion matrix:\\n\", conf_mat)\n",
    "print(\"Accuracy  :\",metrics.accuracy_score(y_test, y_pred))\n",
    "print(\"Precision :\",metrics.precision_score(y_test,y_pred))\n",
    "print(\"F1-Score  :\",metrics.f1_score(y_test,y_pred))\n",
    "print(\"Recall    :\",metrics.recall_score(y_test,y_pred))"
   ]
  },
  {
   "cell_type": "code",
   "execution_count": null,
   "metadata": {},
   "outputs": [],
   "source": []
  }
 ],
 "metadata": {
  "kernelspec": {
   "display_name": "Python 3",
   "language": "python",
   "name": "python3"
  },
  "language_info": {
   "codemirror_mode": {
    "name": "ipython",
    "version": 3
   },
   "file_extension": ".py",
   "mimetype": "text/x-python",
   "name": "python",
   "nbconvert_exporter": "python",
   "pygments_lexer": "ipython3",
   "version": "3.7.6"
  }
 },
 "nbformat": 4,
 "nbformat_minor": 4
}
